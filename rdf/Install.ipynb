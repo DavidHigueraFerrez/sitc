{
 "cells": [
  {
   "cell_type": "code",
   "execution_count": null,
   "metadata": {},
   "outputs": [
    {
     "name": "stdout",
     "output_type": "stream",
     "text": [
      "Collecting future (from -r requirements.txt (line 1))\n",
      "Collecting rdflib (from -r requirements.txt (line 2))\n",
      "  Using cached https://files.pythonhosted.org/packages/3c/fe/630bacb652680f6d481b9febbb3e2c3869194a1a5fc3401a4a41195a2f8f/rdflib-4.2.2-py3-none-any.whl\n",
      "Collecting rdflib-jsonld (from -r requirements.txt (line 3))\n",
      "Collecting lxml (from -r requirements.txt (line 4))\n",
      "  Using cached https://files.pythonhosted.org/packages/a9/3c/2a9b8a58d9e7a8e3123ada3e3420fb3a963420a1ed235d62647a55edb359/lxml-4.3.1-cp36-cp36m-manylinux1_x86_64.whl\n",
      "Collecting html5lib (from -r requirements.txt (line 5))\n"
     ]
    }
   ],
   "source": [
    "# Install a pip package in the current Jupyter kernel\n",
    "import sys\n",
    "import os\n",
    "sys.path.append(os.path.join(os.getcwd(), '.jupyter'))\n",
    "!{sys.executable} -m pip install --target '.jupyter' -r requirements.txt"
   ]
  },
  {
   "cell_type": "code",
   "execution_count": null,
   "metadata": {},
   "outputs": [],
   "source": []
  }
 ],
 "metadata": {
  "kernelspec": {
   "display_name": "Python 3",
   "language": "python",
   "name": "python3"
  },
  "language_info": {
   "codemirror_mode": {
    "name": "ipython",
    "version": 3
   },
   "file_extension": ".py",
   "mimetype": "text/x-python",
   "name": "python",
   "nbconvert_exporter": "python",
   "pygments_lexer": "ipython3",
   "version": "3.6.3"
  }
 },
 "nbformat": 4,
 "nbformat_minor": 2
}
